{
 "cells": [
  {
   "cell_type": "markdown",
   "metadata": {},
   "source": [
    "This function assumed that we have an input file with 4 fields: id, time, lat and long."
   ]
  },
  {
   "cell_type": "code",
   "execution_count": 25,
   "metadata": {},
   "outputs": [
    {
     "data": {
      "text/html": [
       "<div>\n",
       "<style scoped>\n",
       "    .dataframe tbody tr th:only-of-type {\n",
       "        vertical-align: middle;\n",
       "    }\n",
       "\n",
       "    .dataframe tbody tr th {\n",
       "        vertical-align: top;\n",
       "    }\n",
       "\n",
       "    .dataframe thead th {\n",
       "        text-align: right;\n",
       "    }\n",
       "</style>\n",
       "<table border=\"1\" class=\"dataframe\">\n",
       "  <thead>\n",
       "    <tr style=\"text-align: right;\">\n",
       "      <th></th>\n",
       "      <th>time</th>\n",
       "      <th>id</th>\n",
       "      <th>lat</th>\n",
       "      <th>long</th>\n",
       "    </tr>\n",
       "  </thead>\n",
       "  <tbody>\n",
       "    <tr>\n",
       "      <th>0</th>\n",
       "      <td>2020-03-30 04:15:36.186</td>\n",
       "      <td>90.59.53.79</td>\n",
       "      <td>48.186268</td>\n",
       "      <td>0.652216</td>\n",
       "    </tr>\n",
       "    <tr>\n",
       "      <th>1</th>\n",
       "      <td>2020-03-30 04:15:35.722</td>\n",
       "      <td>83.193.39.0</td>\n",
       "      <td>43.506000</td>\n",
       "      <td>-1.477000</td>\n",
       "    </tr>\n",
       "    <tr>\n",
       "      <th>2</th>\n",
       "      <td>2020-03-30 04:15:36.233</td>\n",
       "      <td>176.145.161.215</td>\n",
       "      <td>43.693695</td>\n",
       "      <td>5.033779</td>\n",
       "    </tr>\n",
       "    <tr>\n",
       "      <th>3</th>\n",
       "      <td>2020-03-30 04:15:36.228</td>\n",
       "      <td>83.199.173.224</td>\n",
       "      <td>48.730705</td>\n",
       "      <td>2.587640</td>\n",
       "    </tr>\n",
       "    <tr>\n",
       "      <th>4</th>\n",
       "      <td>2020-03-30 04:15:36.404</td>\n",
       "      <td>77.147.33.204</td>\n",
       "      <td>44.915400</td>\n",
       "      <td>-0.427000</td>\n",
       "    </tr>\n",
       "  </tbody>\n",
       "</table>\n",
       "</div>"
      ],
      "text/plain": [
       "                     time               id        lat      long\n",
       "0 2020-03-30 04:15:36.186      90.59.53.79  48.186268  0.652216\n",
       "1 2020-03-30 04:15:35.722      83.193.39.0  43.506000 -1.477000\n",
       "2 2020-03-30 04:15:36.233  176.145.161.215  43.693695  5.033779\n",
       "3 2020-03-30 04:15:36.228   83.199.173.224  48.730705  2.587640\n",
       "4 2020-03-30 04:15:36.404    77.147.33.204  44.915400 -0.427000"
      ]
     },
     "execution_count": 25,
     "metadata": {},
     "output_type": "execute_result"
    }
   ],
   "source": [
    "import pandas as pd\n",
    "from datetime import datetime, timedelta \n",
    "df = pd.read_csv('03.01.2020.csv')\n",
    "df.time = pd.to_datetime(df.time)\n",
    "\n",
    "df.head(5)"
   ]
  },
  {
   "cell_type": "markdown",
   "metadata": {},
   "source": [
    "With that kind of input files, you can then use the following function to build the graph."
   ]
  },
  {
   "cell_type": "code",
   "execution_count": 26,
   "metadata": {},
   "outputs": [],
   "source": [
    "import pandas as pd\n",
    "import numpy as np\n",
    "from datetime import datetime, timedelta \n",
    "\n",
    "def build_graph(df,graph_file_name):\n",
    "    proximity_threshold =  0.000015 # (approxi 1m); Important assumption, check for reasonable values and always report values chosen\n",
    "    time_threshold = 10 # Important assumption, check for reasonable values and always report values chosen\n",
    "    contact_list = []\n",
    "    for index, row in df.iterrows():\n",
    "\n",
    "       # print (index)\n",
    "       # print (row)\n",
    "        person = row['id']\n",
    "        time = row['time'].to_pydatetime() # shitty bug hot fix: time becomes <class 'pandas._libs.tslibs.timestamps.Timestamp'> instead of datetime\n",
    "       # print (type(time))\n",
    "        lat = row['lat']\n",
    "        long = row['long']\n",
    "\n",
    "\n",
    "        # Get rows whose latitude and longitude are close to the \"row\" (by proximity_threshold)\n",
    "        geo_slice = df[(df['lat'] < lat + proximity_threshold) & (df['lat'] > lat - proximity_threshold )]\n",
    "        geo_slice = geo_slice[( geo_slice['long'] < long + proximity_threshold) & (geo_slice['long'] > long - proximity_threshold )]\n",
    "\n",
    "        # Among the previous rows, find rows who are temporally close \n",
    "        t_slice_minus = (time + timedelta(minutes=-10))\n",
    "        t_slice_plus = (time + timedelta(minutes=+10))\n",
    "        # print ('t-',t_slice_minus)\n",
    "        # print ('t+',t_slice_plus)\n",
    "        time_slice =  geo_slice[( geo_slice['time'] < t_slice_plus) & (geo_slice['time'] > t_slice_minus )]\n",
    "        time_slice = time_slice[time_slice['id'] != person]\n",
    "\n",
    "        #print (index,  len(time_slice.index))\n",
    "        contact_list.append([person, time.strftime(\"%m/%d/%Y, %H:%M:%S\"),lat,long, time_slice['id'].to_list() ])\n",
    "\n",
    "    contact_list =  pd.DataFrame(contact_list,  columns = ['id', 'time', 'lat','long','contact_list'])\n",
    "    contact_list.to_csv(graph_file_name,  index=False)\n",
    "    return"
   ]
  },
  {
   "cell_type": "markdown",
   "metadata": {},
   "source": [
    "For example:"
   ]
  },
  {
   "cell_type": "code",
   "execution_count": 27,
   "metadata": {},
   "outputs": [],
   "source": [
    "build_graph(df, 'cg_03.01.2020.csv')"
   ]
  },
  {
   "cell_type": "markdown",
   "metadata": {},
   "source": [
    "# Expected result"
   ]
  },
  {
   "cell_type": "markdown",
   "metadata": {},
   "source": [
    "If the build_graph function worked, it should give us a .csv file as the following."
   ]
  },
  {
   "cell_type": "code",
   "execution_count": 28,
   "metadata": {},
   "outputs": [
    {
     "data": {
      "text/html": [
       "<div>\n",
       "<style scoped>\n",
       "    .dataframe tbody tr th:only-of-type {\n",
       "        vertical-align: middle;\n",
       "    }\n",
       "\n",
       "    .dataframe tbody tr th {\n",
       "        vertical-align: top;\n",
       "    }\n",
       "\n",
       "    .dataframe thead th {\n",
       "        text-align: right;\n",
       "    }\n",
       "</style>\n",
       "<table border=\"1\" class=\"dataframe\">\n",
       "  <thead>\n",
       "    <tr style=\"text-align: right;\">\n",
       "      <th></th>\n",
       "      <th>id</th>\n",
       "      <th>time</th>\n",
       "      <th>lat</th>\n",
       "      <th>long</th>\n",
       "      <th>contact_list</th>\n",
       "    </tr>\n",
       "  </thead>\n",
       "  <tbody>\n",
       "    <tr>\n",
       "      <th>0</th>\n",
       "      <td>90.59.53.79</td>\n",
       "      <td>03/30/2020, 04:15:36</td>\n",
       "      <td>48.186268</td>\n",
       "      <td>0.652216</td>\n",
       "      <td>[]</td>\n",
       "    </tr>\n",
       "    <tr>\n",
       "      <th>1</th>\n",
       "      <td>83.193.39.0</td>\n",
       "      <td>03/30/2020, 04:15:35</td>\n",
       "      <td>43.506000</td>\n",
       "      <td>-1.477000</td>\n",
       "      <td>[]</td>\n",
       "    </tr>\n",
       "    <tr>\n",
       "      <th>2</th>\n",
       "      <td>176.145.161.215</td>\n",
       "      <td>03/30/2020, 04:15:36</td>\n",
       "      <td>43.693695</td>\n",
       "      <td>5.033779</td>\n",
       "      <td>[]</td>\n",
       "    </tr>\n",
       "    <tr>\n",
       "      <th>3</th>\n",
       "      <td>83.199.173.224</td>\n",
       "      <td>03/30/2020, 04:15:36</td>\n",
       "      <td>48.730705</td>\n",
       "      <td>2.587640</td>\n",
       "      <td>[]</td>\n",
       "    </tr>\n",
       "    <tr>\n",
       "      <th>4</th>\n",
       "      <td>77.147.33.204</td>\n",
       "      <td>03/30/2020, 04:15:36</td>\n",
       "      <td>44.915400</td>\n",
       "      <td>-0.427000</td>\n",
       "      <td>[]</td>\n",
       "    </tr>\n",
       "    <tr>\n",
       "      <th>5</th>\n",
       "      <td>92.184.110.0</td>\n",
       "      <td>03/30/2020, 04:15:36</td>\n",
       "      <td>45.933000</td>\n",
       "      <td>-0.955000</td>\n",
       "      <td>[]</td>\n",
       "    </tr>\n",
       "    <tr>\n",
       "      <th>6</th>\n",
       "      <td>92.184.97.180</td>\n",
       "      <td>03/30/2020, 04:15:36</td>\n",
       "      <td>48.900901</td>\n",
       "      <td>2.165352</td>\n",
       "      <td>[]</td>\n",
       "    </tr>\n",
       "    <tr>\n",
       "      <th>7</th>\n",
       "      <td>80.215.102.240</td>\n",
       "      <td>03/30/2020, 04:15:37</td>\n",
       "      <td>47.184177</td>\n",
       "      <td>3.013118</td>\n",
       "      <td>[]</td>\n",
       "    </tr>\n",
       "    <tr>\n",
       "      <th>8</th>\n",
       "      <td>88.122.126.130</td>\n",
       "      <td>03/30/2020, 04:15:37</td>\n",
       "      <td>45.771760</td>\n",
       "      <td>4.916659</td>\n",
       "      <td>[]</td>\n",
       "    </tr>\n",
       "    <tr>\n",
       "      <th>9</th>\n",
       "      <td>176.156.209.0</td>\n",
       "      <td>03/30/2020, 04:15:37</td>\n",
       "      <td>43.586000</td>\n",
       "      <td>-1.269000</td>\n",
       "      <td>[]</td>\n",
       "    </tr>\n",
       "  </tbody>\n",
       "</table>\n",
       "</div>"
      ],
      "text/plain": [
       "                id                  time        lat      long contact_list\n",
       "0      90.59.53.79  03/30/2020, 04:15:36  48.186268  0.652216           []\n",
       "1      83.193.39.0  03/30/2020, 04:15:35  43.506000 -1.477000           []\n",
       "2  176.145.161.215  03/30/2020, 04:15:36  43.693695  5.033779           []\n",
       "3   83.199.173.224  03/30/2020, 04:15:36  48.730705  2.587640           []\n",
       "4    77.147.33.204  03/30/2020, 04:15:36  44.915400 -0.427000           []\n",
       "5     92.184.110.0  03/30/2020, 04:15:36  45.933000 -0.955000           []\n",
       "6    92.184.97.180  03/30/2020, 04:15:36  48.900901  2.165352           []\n",
       "7   80.215.102.240  03/30/2020, 04:15:37  47.184177  3.013118           []\n",
       "8   88.122.126.130  03/30/2020, 04:15:37  45.771760  4.916659           []\n",
       "9    176.156.209.0  03/30/2020, 04:15:37  43.586000 -1.269000           []"
      ]
     },
     "execution_count": 28,
     "metadata": {},
     "output_type": "execute_result"
    }
   ],
   "source": [
    "df = pd.read_csv('cg_03.01.2020.csv')\n",
    "df.head(10)"
   ]
  },
  {
   "cell_type": "markdown",
   "metadata": {},
   "source": [
    "Again, we assume that, build_graph function is applied to a csv per day (name of each file is simply the date) and output is named as that same day, but with a prefix cg_"
   ]
  },
  {
   "cell_type": "code",
   "execution_count": null,
   "metadata": {},
   "outputs": [],
   "source": []
  }
 ],
 "metadata": {
  "kernelspec": {
   "display_name": "Python 3",
   "language": "python",
   "name": "python3"
  },
  "language_info": {
   "codemirror_mode": {
    "name": "ipython",
    "version": 3
   },
   "file_extension": ".py",
   "mimetype": "text/x-python",
   "name": "python",
   "nbconvert_exporter": "python",
   "pygments_lexer": "ipython3",
   "version": "3.7.3"
  }
 },
 "nbformat": 4,
 "nbformat_minor": 2
}
