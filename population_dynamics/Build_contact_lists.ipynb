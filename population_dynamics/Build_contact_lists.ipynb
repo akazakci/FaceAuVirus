{
 "cells": [
  {
   "cell_type": "markdown",
   "metadata": {},
   "source": [
    "This function assumed that we have an input file with 4 fields: id, time, lat and long."
   ]
  },
  {
   "cell_type": "code",
   "execution_count": 95,
   "metadata": {},
   "outputs": [],
   "source": [
    "import pandas as pd\n",
    "import numpy as np\n",
    "from datetime import datetime, timedelta "
   ]
  },
  {
   "cell_type": "code",
   "execution_count": 98,
   "metadata": {},
   "outputs": [
    {
     "data": {
      "text/html": [
       "<div>\n",
       "<style scoped>\n",
       "    .dataframe tbody tr th:only-of-type {\n",
       "        vertical-align: middle;\n",
       "    }\n",
       "\n",
       "    .dataframe tbody tr th {\n",
       "        vertical-align: top;\n",
       "    }\n",
       "\n",
       "    .dataframe thead th {\n",
       "        text-align: right;\n",
       "    }\n",
       "</style>\n",
       "<table border=\"1\" class=\"dataframe\">\n",
       "  <thead>\n",
       "    <tr style=\"text-align: right;\">\n",
       "      <th></th>\n",
       "      <th>time</th>\n",
       "      <th>id</th>\n",
       "      <th>lat</th>\n",
       "      <th>long</th>\n",
       "    </tr>\n",
       "  </thead>\n",
       "  <tbody>\n",
       "    <tr>\n",
       "      <td>0</td>\n",
       "      <td>2020-03-11 10:20:13</td>\n",
       "      <td>10</td>\n",
       "      <td>49.426223</td>\n",
       "      <td>2.105698</td>\n",
       "    </tr>\n",
       "    <tr>\n",
       "      <td>1</td>\n",
       "      <td>2020-03-11 10:20:13</td>\n",
       "      <td>10</td>\n",
       "      <td>49.426223</td>\n",
       "      <td>2.105698</td>\n",
       "    </tr>\n",
       "    <tr>\n",
       "      <td>2</td>\n",
       "      <td>2020-03-11 10:30:33</td>\n",
       "      <td>10</td>\n",
       "      <td>49.426196</td>\n",
       "      <td>2.105919</td>\n",
       "    </tr>\n",
       "    <tr>\n",
       "      <td>3</td>\n",
       "      <td>2020-03-11 10:30:33</td>\n",
       "      <td>10</td>\n",
       "      <td>49.426196</td>\n",
       "      <td>2.105919</td>\n",
       "    </tr>\n",
       "    <tr>\n",
       "      <td>4</td>\n",
       "      <td>2020-03-11 10:41:20</td>\n",
       "      <td>10</td>\n",
       "      <td>49.426223</td>\n",
       "      <td>2.105710</td>\n",
       "    </tr>\n",
       "  </tbody>\n",
       "</table>\n",
       "</div>"
      ],
      "text/plain": [
       "                    time  id        lat      long\n",
       "0   2020-03-11 10:20:13   10  49.426223  2.105698\n",
       "1   2020-03-11 10:20:13   10  49.426223  2.105698\n",
       "2   2020-03-11 10:30:33   10  49.426196  2.105919\n",
       "3   2020-03-11 10:30:33   10  49.426196  2.105919\n",
       "4   2020-03-11 10:41:20   10  49.426223  2.105710"
      ]
     },
     "execution_count": 98,
     "metadata": {},
     "output_type": "execute_result"
    }
   ],
   "source": [
    "INPUT_PATH = \"/Users/Etienne/Desktop/FaceAuVirus/confidential/sample_confidential_formatted.csv\"\n",
    "OUTPUT_PATH = \"/Users/Etienne/Desktop/FaceAuVirus/confidential/cg_sample_confidential_formatted.csv\"\n",
    "\n",
    "df = pd.read_csv(INPUT_PATH)\n",
    "df.head(5)"
   ]
  },
  {
   "cell_type": "markdown",
   "metadata": {},
   "source": [
    "With that kind of input files, you can then use the following function to build the graph."
   ]
  },
  {
   "cell_type": "code",
   "execution_count": 99,
   "metadata": {
    "scrolled": false
   },
   "outputs": [],
   "source": [
    "def build_graph(input_csv, output_graph_csv):\n",
    "\n",
    "    df = pd.read_csv(FILENAME, usecols=[\"time\",\"id\",\"lat\",\"long\"])\n",
    "    df.time = pd.to_datetime(df.time)\n",
    "\n",
    "    proximity_threshold = 0.000015 # (approxi 1m); Important assumption, check for reasonable values and always report values chosen\n",
    "    time_threshold = 10 # In minutes. Important assumption, check for reasonable values and always report values chosen\n",
    "    final_list = []\n",
    "    for index, row in df.iterrows():\n",
    "\n",
    "        person = row['id']\n",
    "        time = row['time']\n",
    "        lat = row['lat']\n",
    "        long = row['long']\n",
    "\n",
    "        # Get rows whose geographically and temporally close to the \"actual row\" (by proximity_threshold and time_threshold) \n",
    "        geo_time_slice = df[(df['lat'].between(lat - proximity_threshold, lat + proximity_threshold,inclusive=True)) &\n",
    "                            (df['long'].between(long - proximity_threshold, long + proximity_threshold,inclusive=True)) &\n",
    "                            (df['time'].between(time + timedelta(minutes =- time_threshold), time + timedelta(minutes =+ time_threshold),inclusive=True)) &\n",
    "                            (df['id'] != person)]\n",
    "        \n",
    "        final_list.append([person, time.strftime(\"%Y-%m-%d %H:%M:%S\"), lat, long, geo_time_slice['id'].unique().tolist()])\n",
    "\n",
    "    df_contact = pd.DataFrame(final_list, columns = ['id', 'time', 'lat','long','contact_list'])\n",
    "    df_contact.to_csv(output_graph_csv,  index=False)\n",
    "    return\n"
   ]
  },
  {
   "cell_type": "markdown",
   "metadata": {},
   "source": [
    "For example:"
   ]
  },
  {
   "cell_type": "code",
   "execution_count": 100,
   "metadata": {},
   "outputs": [
    {
     "name": "stdout",
     "output_type": "stream",
     "text": [
      "CPU times: user 3.59 s, sys: 6.22 ms, total: 3.6 s\n",
      "Wall time: 3.6 s\n"
     ]
    }
   ],
   "source": [
    "%%time\n",
    "build_graph(INPUT_PATH, OUTPUT_PATH)"
   ]
  },
  {
   "cell_type": "markdown",
   "metadata": {},
   "source": [
    "# Expected result"
   ]
  },
  {
   "cell_type": "markdown",
   "metadata": {},
   "source": [
    "If the build_graph function worked, it should give us a .csv file as the following."
   ]
  },
  {
   "cell_type": "code",
   "execution_count": 94,
   "metadata": {},
   "outputs": [
    {
     "data": {
      "text/html": [
       "<div>\n",
       "<style scoped>\n",
       "    .dataframe tbody tr th:only-of-type {\n",
       "        vertical-align: middle;\n",
       "    }\n",
       "\n",
       "    .dataframe tbody tr th {\n",
       "        vertical-align: top;\n",
       "    }\n",
       "\n",
       "    .dataframe thead th {\n",
       "        text-align: right;\n",
       "    }\n",
       "</style>\n",
       "<table border=\"1\" class=\"dataframe\">\n",
       "  <thead>\n",
       "    <tr style=\"text-align: right;\">\n",
       "      <th></th>\n",
       "      <th>id</th>\n",
       "      <th>time</th>\n",
       "      <th>lat</th>\n",
       "      <th>long</th>\n",
       "      <th>contact_list</th>\n",
       "    </tr>\n",
       "  </thead>\n",
       "  <tbody>\n",
       "    <tr>\n",
       "      <td>0</td>\n",
       "      <td>10</td>\n",
       "      <td>2020-03-11 10:20:13</td>\n",
       "      <td>49.426223</td>\n",
       "      <td>2.105698</td>\n",
       "      <td>[12, 13, 1, 4]</td>\n",
       "    </tr>\n",
       "    <tr>\n",
       "      <td>1</td>\n",
       "      <td>10</td>\n",
       "      <td>2020-03-11 10:20:13</td>\n",
       "      <td>49.426223</td>\n",
       "      <td>2.105698</td>\n",
       "      <td>[12, 13, 1, 4]</td>\n",
       "    </tr>\n",
       "    <tr>\n",
       "      <td>2</td>\n",
       "      <td>10</td>\n",
       "      <td>2020-03-11 10:30:33</td>\n",
       "      <td>49.426196</td>\n",
       "      <td>2.105919</td>\n",
       "      <td>[12, 13, 1, 4]</td>\n",
       "    </tr>\n",
       "    <tr>\n",
       "      <td>3</td>\n",
       "      <td>10</td>\n",
       "      <td>2020-03-11 10:30:33</td>\n",
       "      <td>49.426196</td>\n",
       "      <td>2.105919</td>\n",
       "      <td>[12, 13, 1, 4]</td>\n",
       "    </tr>\n",
       "    <tr>\n",
       "      <td>4</td>\n",
       "      <td>10</td>\n",
       "      <td>2020-03-11 10:41:20</td>\n",
       "      <td>49.426222</td>\n",
       "      <td>2.105710</td>\n",
       "      <td>[13, 1, 4]</td>\n",
       "    </tr>\n",
       "    <tr>\n",
       "      <td>5</td>\n",
       "      <td>10</td>\n",
       "      <td>2020-03-11 10:41:20</td>\n",
       "      <td>49.426222</td>\n",
       "      <td>2.105710</td>\n",
       "      <td>[13, 1, 4]</td>\n",
       "    </tr>\n",
       "    <tr>\n",
       "      <td>6</td>\n",
       "      <td>10</td>\n",
       "      <td>2020-03-11 07:24:00</td>\n",
       "      <td>49.426222</td>\n",
       "      <td>2.105697</td>\n",
       "      <td>[5, 4]</td>\n",
       "    </tr>\n",
       "    <tr>\n",
       "      <td>7</td>\n",
       "      <td>10</td>\n",
       "      <td>2020-03-11 17:22:50</td>\n",
       "      <td>49.403637</td>\n",
       "      <td>2.176646</td>\n",
       "      <td>[7, 4]</td>\n",
       "    </tr>\n",
       "    <tr>\n",
       "      <td>8</td>\n",
       "      <td>10</td>\n",
       "      <td>2020-03-11 17:24:56</td>\n",
       "      <td>49.403630</td>\n",
       "      <td>2.176647</td>\n",
       "      <td>[7, 4]</td>\n",
       "    </tr>\n",
       "    <tr>\n",
       "      <td>9</td>\n",
       "      <td>10</td>\n",
       "      <td>2020-03-11 16:03:41</td>\n",
       "      <td>49.426215</td>\n",
       "      <td>2.105722</td>\n",
       "      <td>[4]</td>\n",
       "    </tr>\n",
       "  </tbody>\n",
       "</table>\n",
       "</div>"
      ],
      "text/plain": [
       "   id                 time        lat      long    contact_list\n",
       "0  10  2020-03-11 10:20:13  49.426223  2.105698  [12, 13, 1, 4]\n",
       "1  10  2020-03-11 10:20:13  49.426223  2.105698  [12, 13, 1, 4]\n",
       "2  10  2020-03-11 10:30:33  49.426196  2.105919  [12, 13, 1, 4]\n",
       "3  10  2020-03-11 10:30:33  49.426196  2.105919  [12, 13, 1, 4]\n",
       "4  10  2020-03-11 10:41:20  49.426222  2.105710      [13, 1, 4]\n",
       "5  10  2020-03-11 10:41:20  49.426222  2.105710      [13, 1, 4]\n",
       "6  10  2020-03-11 07:24:00  49.426222  2.105697          [5, 4]\n",
       "7  10  2020-03-11 17:22:50  49.403637  2.176646          [7, 4]\n",
       "8  10  2020-03-11 17:24:56  49.403630  2.176647          [7, 4]\n",
       "9  10  2020-03-11 16:03:41  49.426215  2.105722             [4]"
      ]
     },
     "execution_count": 94,
     "metadata": {},
     "output_type": "execute_result"
    }
   ],
   "source": [
    "df = pd.read_csv(OUTPUT_PATH)\n",
    "df.head(10)"
   ]
  },
  {
   "cell_type": "markdown",
   "metadata": {},
   "source": [
    "Again, we assume that, build_graph function is applied to a csv per day (name of each file is simply the date) and output is named as that same day, but with a prefix cg_"
   ]
  },
  {
   "cell_type": "code",
   "execution_count": null,
   "metadata": {},
   "outputs": [],
   "source": []
  }
 ],
 "metadata": {
  "kernelspec": {
   "display_name": "Python 3",
   "language": "python",
   "name": "python3"
  },
  "language_info": {
   "codemirror_mode": {
    "name": "ipython",
    "version": 3
   },
   "file_extension": ".py",
   "mimetype": "text/x-python",
   "name": "python",
   "nbconvert_exporter": "python",
   "pygments_lexer": "ipython3",
   "version": "3.7.4"
  }
 },
 "nbformat": 4,
 "nbformat_minor": 2
}
